{
 "cells": [
  {
   "cell_type": "markdown",
   "id": "df0d234f-1e1a-4495-8208-e177e7f527aa",
   "metadata": {},
   "source": [
    "Complete the exercises below For **Assignment #2**."
   ]
  },
  {
   "cell_type": "markdown",
   "id": "8b703928-3ba6-4f4d-a212-2eaeb1d5ef90",
   "metadata": {},
   "source": [
    "First, load the `Tidyverse` package which imports data visualization and wrangling libraries that we need."
   ]
  },
  {
   "cell_type": "code",
   "execution_count": null,
   "id": "9dbc1d3b-93c7-42c4-b485-08ceb7265ae6",
   "metadata": {},
   "outputs": [],
   "source": [
    "# uncomment the code below and execute this cell\n",
    "# library('tidyverse')"
   ]
  },
  {
   "cell_type": "markdown",
   "id": "491479b3-29cb-4a7f-91a8-b127515f50c4",
   "metadata": {},
   "source": [
    "If you are unable to load the `Tidyverse` package, you may not have it installed. Please refer to the assignment `README` for instructions to update your `data730` environment to include the `Tidyverse` package."
   ]
  },
  {
   "cell_type": "markdown",
   "id": "d073157d-f73b-4db8-85f3-e4fb3641dd23",
   "metadata": {},
   "source": [
    "## Data visualization"
   ]
  },
  {
   "cell_type": "markdown",
   "id": "73c5c496-4a90-4c65-93f8-e9121564e8b6",
   "metadata": {},
   "source": [
    "Let's work with the [Palmer Penguins data](https://allisonhorst.github.io/palmerpenguins/)."
   ]
  },
  {
   "cell_type": "code",
   "execution_count": null,
   "id": "6382a53a-bcca-4111-a1e2-58aeda6ebd29",
   "metadata": {},
   "outputs": [],
   "source": [
    "# uncomment the code below and execute this cell\n",
    "# library('palmerpenguins')\n",
    "# glimpse(penguins)"
   ]
  },
  {
   "cell_type": "markdown",
   "id": "34864040-9f5d-418b-8876-87f3c0fafd47",
   "metadata": {},
   "source": [
    "We now have a data frame called `penguins` available. Use this table for the following exercises."
   ]
  },
  {
   "cell_type": "markdown",
   "id": "7c5fd7a4-9d53-4791-83fc-bebe0ce85b3f",
   "metadata": {},
   "source": [
    "### Bar chart"
   ]
  },
  {
   "cell_type": "markdown",
   "id": "ea10b81d-076c-45d8-b5dd-345fcf60a1e1",
   "metadata": {},
   "source": [
    "In the cell below make a bar chart that shows how many penguins are in the data from each island. Encode the penguin species as the `fill` attribute of the bars."
   ]
  },
  {
   "cell_type": "code",
   "execution_count": null,
   "id": "8531f480-6819-40dc-b2ae-80d9c0465189",
   "metadata": {},
   "outputs": [],
   "source": []
  },
  {
   "cell_type": "markdown",
   "id": "f26fc608-2e43-4148-bad1-343d44c639f9",
   "metadata": {},
   "source": [
    "**In which islands were *Adelie* penguins observed?** Answer using a [markdown list](https://www.markdownguide.org/basic-syntax/#lists-1) in the cell below. \n",
    "\n",
    "⚠️ Remember to switch the cell type to `Markdown`."
   ]
  },
  {
   "cell_type": "code",
   "execution_count": null,
   "id": "40f69f14-79c9-41ad-a53a-57cc113a8832",
   "metadata": {},
   "outputs": [],
   "source": []
  },
  {
   "cell_type": "markdown",
   "id": "5b94df58-517e-461c-a73c-d5294320650f",
   "metadata": {},
   "source": [
    "### Scatter chart"
   ]
  },
  {
   "cell_type": "markdown",
   "id": "73843967-6908-45e4-bb6a-48803112a46f",
   "metadata": {},
   "source": [
    "Make a scatter chart of bill depth versus bill length. Color the points by penguin species. Add a `scale` modification to your chart to adjust the color palette (e.g. add `scale_color_brewer(palette = \"Set2\")`)."
   ]
  },
  {
   "cell_type": "code",
   "execution_count": null,
   "id": "c0ad6a0e-b113-44b3-8fdc-4a034ec24872",
   "metadata": {},
   "outputs": [],
   "source": []
  },
  {
   "cell_type": "markdown",
   "id": "40819f31-256f-480e-b698-e67fd97a1f37",
   "metadata": {},
   "source": [
    "### Histogram"
   ]
  },
  {
   "cell_type": "markdown",
   "id": "fdcf1e1b-1a5b-40e6-9a2b-8294dc7c6c51",
   "metadata": {},
   "source": [
    "Make a histogram of penguin body mass. \n",
    "- Facet your chart by the `sex` column using the `facet_wrap` function and setting the `ncol` parameter to `1`.\n",
    "- In your `geom_histogram` layer, set the `position` argument to `\"identity\"` and set `alpha`to a value between `0` and `1`.\n",
    "- Map penguin species to the `fill` property.\n",
    "- Adjust the `fill` scale palette similarly to how we adjusted the `color` scale palette above. I.e. change to the [ColorBrewer](https://colorbrewer2.org/) `\"Set2\"` palette."
   ]
  },
  {
   "cell_type": "code",
   "execution_count": null,
   "id": "c433f569-33c9-4db1-936a-501e32a02f76",
   "metadata": {},
   "outputs": [],
   "source": []
  },
  {
   "cell_type": "markdown",
   "id": "854017b3-f7ad-4f2d-a325-f1f4a49795ad",
   "metadata": {},
   "source": [
    "What happens when you don't have `position = \"identity\"` in your `geom_histogram` layer? Answer below in a `Markdown` cell."
   ]
  },
  {
   "cell_type": "code",
   "execution_count": null,
   "id": "8f08569c-b3a4-41a1-b754-4204ed37654d",
   "metadata": {},
   "outputs": [],
   "source": []
  },
  {
   "cell_type": "markdown",
   "id": "a8051b80-c2bf-4dcc-a5aa-4f2b1f27d417",
   "metadata": {},
   "source": [
    "## Data wrangling"
   ]
  },
  {
   "cell_type": "markdown",
   "id": "4f29afa6-9168-4227-8301-283f4080117c",
   "metadata": {},
   "source": [
    "First we are going to bring in a data set to practice with called `txhousing`. You can find some information about `txhousing` [here](https://ggplot2.tidyverse.org/reference/txhousing.html)."
   ]
  },
  {
   "cell_type": "code",
   "execution_count": null,
   "id": "579bef17-cd8c-4c8d-a4a1-f1850bf3a142",
   "metadata": {},
   "outputs": [],
   "source": [
    "# uncomment the next two lines and execute this cell\n",
    "# data(txhousing)\n",
    "# glimpse(txhousing)"
   ]
  },
  {
   "cell_type": "markdown",
   "id": "14886b6e-aeb2-41c7-ba8c-e8a56cec6ac5",
   "metadata": {},
   "source": [
    "Write a code chunk to remove the inventory variable. Save the results in a data frame called `txhousing`. Use `glimpse` or `head` to confirm you have removed the variable."
   ]
  },
  {
   "cell_type": "code",
   "execution_count": null,
   "id": "f98fd4d1-1d20-410f-abc8-4e84f69e4fe9",
   "metadata": {},
   "outputs": [],
   "source": []
  },
  {
   "cell_type": "markdown",
   "id": "505f7765-d874-4708-936b-1e74a8cb8703",
   "metadata": {},
   "source": [
    "Make a data set called `dallas_sub` that includes data only from the city of Dallas in 2012 & 2013."
   ]
  },
  {
   "cell_type": "code",
   "execution_count": null,
   "id": "ab7cb735-71da-4b82-b79c-e91ce9b53e2f",
   "metadata": {},
   "outputs": [],
   "source": []
  },
  {
   "cell_type": "markdown",
   "id": "0caba233-423e-4101-8cf5-5a2da31627b8",
   "metadata": {},
   "source": [
    "Add a column to the `dallas_sub` data set called `prct_sold` that calculates the percentage of listings that were sold (`sales/listings * 100`). Be sure to save the results also as a data frame called `dallas_sub`."
   ]
  },
  {
   "cell_type": "code",
   "execution_count": null,
   "id": "050843a7-1f70-4354-b88a-d00b6c0a81b3",
   "metadata": {},
   "outputs": [],
   "source": []
  },
  {
   "cell_type": "markdown",
   "id": "200cee5a-8921-423a-8c60-164f839816aa",
   "metadata": {},
   "source": [
    "Calculate the average percentage of listings that were sold in Dallas in each month of the year based on your `dallas_sub` data set. Save the results of the calculation in an data frame called `dallas_summary`."
   ]
  },
  {
   "cell_type": "code",
   "execution_count": null,
   "id": "d16924b4-378d-46a0-b00b-e86633fc48a2",
   "metadata": {},
   "outputs": [],
   "source": []
  },
  {
   "cell_type": "markdown",
   "id": "52f92165-6346-46af-851f-b3510df8227d",
   "metadata": {},
   "source": [
    "Use `slice_max` to see the top 3 months with the greatest average percentage of listings sold from `dallas_summary`. You do not need to save the results."
   ]
  },
  {
   "cell_type": "code",
   "execution_count": null,
   "id": "3cdadffb-5190-4d0c-80e9-d8ee7e17cfd7",
   "metadata": {},
   "outputs": [],
   "source": []
  },
  {
   "cell_type": "markdown",
   "id": "61cad110-7858-4245-a8fd-de9a1e6b5dbc",
   "metadata": {},
   "source": [
    "Run the following code chunk. Study the code, and the output. Explain in your own words what this code chunk calculated."
   ]
  },
  {
   "cell_type": "code",
   "execution_count": null,
   "id": "2d983e66-c2ff-4964-a5a5-442646aeaa46",
   "metadata": {},
   "outputs": [],
   "source": [
    "# txhousing |>\n",
    "#   filter(year == 2012 | year == 2013, city == \"Dallas\") |>\n",
    "#   mutate(prct_sold = sales/listings *100) |>\n",
    "#   group_by(month) |>\n",
    "#   summarize(mean_prct_sold = mean(prct_sold)) |>\n",
    "#   slice_max(mean_prct_sold, n = 3)"
   ]
  },
  {
   "cell_type": "code",
   "execution_count": null,
   "id": "1dcd62c1-7f86-4fc4-984b-f679a454fe72",
   "metadata": {},
   "outputs": [],
   "source": []
  }
 ],
 "metadata": {
  "kernelspec": {
   "display_name": "R",
   "language": "R",
   "name": "ir"
  },
  "language_info": {
   "codemirror_mode": "r",
   "file_extension": ".r",
   "mimetype": "text/x-r-source",
   "name": "R",
   "pygments_lexer": "r",
   "version": "4.2.3"
  }
 },
 "nbformat": 4,
 "nbformat_minor": 5
}
